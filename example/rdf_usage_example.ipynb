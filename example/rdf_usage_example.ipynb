{
 "cells": [
  {
   "cell_type": "code",
   "execution_count": 1,
   "id": "16e11203",
   "metadata": {},
   "outputs": [],
   "source": [
    "import sys, os\n",
    "import numpy as np\n",
    "from time import time as t\n",
    "import cupy as cp\n",
    "\n",
    "sys.path.append('../src/')\n",
    "from main_structures import Grammar, Graph, Equation"
   ]
  },
  {
   "cell_type": "code",
   "execution_count": 2,
   "id": "8e50575c",
   "metadata": {},
   "outputs": [
    {
     "name": "stdout",
     "output_type": "stream",
     "text": [
      "{'S': 0, 'C1': 2, 'C2': 6} 3\n",
      "{'t_r': 1, 't': 3, 'sco_r': 4, 'sco': 5} 4\n",
      "{0: [[1, 2, 0.2], [4, 5, 0.25], [4, 6, 0.4], [1, 3, 0.15]], 2: [[0, 3, 1.0]], 6: [[0, 5, 1.0]]}\n"
     ]
    }
   ],
   "source": [
    "grammars_path ='../data/grammars/rdf.g1_cnf (prob).txt'\n",
    "grm = Grammar(grammars_path, grammar_type='Prob')\n",
    "\n",
    "graph_path = '../data/graphs/'\n",
    "graph_paths = os.listdir(graph_path)\n",
    "\n",
    "ll_g1={'generations.txt': 2164, 'travel.txt': 2499, 'biomedical-mesure-primitive.txt': 15156,\n",
    "    'atom-primitive.txt': 15454, 'foaf.txt': 4118, 'funding.txt': 17634, 'univ-bench.txt': 2540,\n",
    "    'pizza.txt': 56195, 'skos.txt': 810, 'wine.txt': 66572, 'people_pets.txt': 9472, 'core.txt':204}\n",
    "k = 1 #grm.ntc"
   ]
  },
  {
   "cell_type": "code",
   "execution_count": 3,
   "id": "4c9a1a09",
   "metadata": {},
   "outputs": [],
   "source": [
    "def equation_g1(eq, mtx):\n",
    "    mtx = (0.2 * eq.matrices[1].dot(mtx).dot(eq.matrices[3]) + 0.15 * eq.matrices[1].dot(eq.matrices[3]) + 0.4 *\n",
    "           eq.matrices[4].dot(mtx).dot(eq.matrices[5]) + 0.25 * eq.matrices[4].dot(eq.matrices[5])) - mtx\n",
    "    return mtx"
   ]
  },
  {
   "cell_type": "code",
   "execution_count": 4,
   "id": "d711d703",
   "metadata": {},
   "outputs": [
    {
     "name": "stdout",
     "output_type": "stream",
     "text": [
      "Graph:  generations.txt\n",
      "Fill time 425.02 ms\n",
      "0:  |F(x)| = 8.90657e-08; step 1\n",
      "1:  |F(x)| = 3.83924e-15; step 1\n",
      "generations.txt  -  2164 / 2164  -  617.16 ms\n",
      "\n",
      "Graph:  pizza.txt\n",
      "Fill time 20.06 ms\n",
      "0:  |F(x)| = 2.59205e-05; step 1\n",
      "1:  |F(x)| = 5.30675e-12; step 1\n",
      "2:  |F(x)| = 1.14793e-14; step 1\n",
      "3:  |F(x)| = 2.804e-15; step 1\n",
      "pizza.txt  -  56195 / 56195  -  2019.12 ms\n",
      "\n",
      "Graph:  foaf.txt\n",
      "Fill time 13.59 ms\n",
      "0:  |F(x)| = 1.02185e-06; step 1\n",
      "1:  |F(x)| = 4.78396e-14; step 1\n",
      "2:  |F(x)| = 9.35491e-16; step 1\n",
      "foaf.txt  -  4118 / 4118  -  930.12 ms\n",
      "\n",
      "Graph:  people_pets.txt\n",
      "Fill time 12.22 ms\n",
      "0:  |F(x)| = 1.36631e-06; step 1\n",
      "1:  |F(x)| = 7.46019e-14; step 1\n",
      "2:  |F(x)| = 6.38076e-16; step 1\n",
      "people_pets.txt  -  9472 / 9472  -  1040.7 ms\n",
      "\n",
      "Graph:  univ-bench.txt\n",
      "Fill time 13.0 ms\n",
      "0:  |F(x)| = 6.01639e-07; step 1\n",
      "1:  |F(x)| = 4.06697e-14; step 1\n",
      "2:  |F(x)| = 8.3728e-16; step 1\n",
      "univ-bench.txt  -  2540 / 2540  -  918.91 ms\n",
      "\n",
      "Graph:  atom-primitive.txt\n",
      "Fill time 16.14 ms\n",
      "0:  |F(x)| = 1.71397e-05; step 1\n",
      "1:  |F(x)| = 1.35165e-11; step 1\n",
      "2:  |F(x)| = 6.60932e-15; step 1\n",
      "atom-primitive.txt  -  15454 / 15454  -  940.44 ms\n",
      "\n",
      "Graph:  skos.txt\n",
      "Fill time 12.45 ms\n",
      "0:  |F(x)| = 6.23895e-08; step 1\n",
      "1:  |F(x)| = 2.77556e-16; step 1\n",
      "skos.txt  -  810 / 810  -  638.79 ms\n",
      "\n",
      "Graph:  wine.txt\n",
      "Fill time 14.42 ms\n",
      "0:  |F(x)| = 1.42877e-05; step 1\n",
      "1:  |F(x)| = 1.07266e-12; step 1\n",
      "2:  |F(x)| = 4.15338e-15; step 1\n",
      "wine.txt  -  66572 / 66572  -  1662.05 ms\n",
      "\n",
      "Graph:  biomedical-mesure-primitive.txt\n",
      "Fill time 13.03 ms\n",
      "0:  |F(x)| = 2.05364e-06; step 1\n",
      "1:  |F(x)| = 5.96341e-13; step 1\n",
      "2:  |F(x)| = 9.28879e-16; step 1\n",
      "biomedical-mesure-primitive.txt  -  15156 / 15156  -  1065.98 ms\n",
      "\n",
      "Graph:  funding.txt\n",
      "Fill time 13.23 ms\n",
      "0:  |F(x)| = 1.23101e-06; step 1\n",
      "1:  |F(x)| = 1.43564e-13; step 1\n",
      "2:  |F(x)| = 2.22045e-15; step 1\n",
      "funding.txt  -  17634 / 17634  -  1261.75 ms\n",
      "\n",
      "Graph:  travel.txt\n",
      "Fill time 11.78 ms\n",
      "0:  |F(x)| = 2.84506e-07; step 1\n",
      "1:  |F(x)| = 1.27448e-14; step 1\n",
      "2:  |F(x)| = 7.8388e-16; step 1\n",
      "travel.txt  -  2499 / 2499  -  984.11 ms\n",
      "\n",
      "Graph:  core.txt\n",
      "Fill time 24.18 ms\n",
      "0:  |F(x)| = 0.000514519; step 1\n",
      "1:  |F(x)| = 7.22768e-12; step 1\n",
      "2:  |F(x)| = 1.89552e-15; step 1\n",
      "core.txt  -  204 / 204  -  1205.61 ms\n",
      "\n"
     ]
    }
   ],
   "source": [
    "for gp in graph_paths:\n",
    "    if gp[-4:]!='.txt': continue \n",
    "    with cp.cuda.Device(0):\n",
    "        s = t()\n",
    "        mempool = cp.get_default_memory_pool()\n",
    "        mempool.free_all_blocks()\n",
    "        print('Graph: ', gp)\n",
    "        grh = Graph(graph_path + gp)\n",
    "        grh.fill(grm)\n",
    "        eq = Equation(grm, grh)\n",
    "        \n",
    "        def equation(mtx):\n",
    "            return equation_g1(eq, mtx)\n",
    "        print('Fill time', round((t() - s) * 1000, 2), 'ms')\n",
    "\n",
    "        s = t()\n",
    "        res = eq.newton_krylov(equation, info=True)\n",
    "        s2 = t()\n",
    "        numb = grm.nonterminals['S']\n",
    "        nnz = res.count_nonzero()\n",
    "    print(gp,' - ', nnz, '/', ll_g1[gp], ' - ', round((s2 - s) * 1000, 2), 'ms')\n",
    "    print()"
   ]
  }
 ],
 "metadata": {
  "kernelspec": {
   "display_name": "Python 3 (ipykernel)",
   "language": "python",
   "name": "python3"
  },
  "language_info": {
   "codemirror_mode": {
    "name": "ipython",
    "version": 3
   },
   "file_extension": ".py",
   "mimetype": "text/x-python",
   "name": "python",
   "nbconvert_exporter": "python",
   "pygments_lexer": "ipython3",
   "version": "3.9.5"
  }
 },
 "nbformat": 4,
 "nbformat_minor": 5
}
