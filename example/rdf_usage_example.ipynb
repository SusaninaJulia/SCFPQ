{
 "cells": [
  {
   "cell_type": "code",
   "execution_count": 1,
   "id": "16e11203",
   "metadata": {},
   "outputs": [],
   "source": [
    "import sys, os\n",
    "import numpy as np\n",
    "from time import time as t\n",
    "import cupy as cp\n",
    "\n",
    "sys.path.append('../src/')\n",
    "from main_structures import Grammar, Graph, Equation"
   ]
  },
  {
   "cell_type": "code",
   "execution_count": 2,
   "id": "8e50575c",
   "metadata": {},
   "outputs": [
    {
     "name": "stdout",
     "output_type": "stream",
     "text": [
      "{'S': 0, 'C1': 2, 'C2': 6} 3\n",
      "{'t_r': 1, 't': 3, 'sco_r': 4, 'sco': 5} 4\n",
      "{0: [[1, 2, 0.2], [4, 5, 0.25], [4, 6, 0.4], [1, 3, 0.15]], 2: [[0, 3, 1.0]], 6: [[0, 5, 1.0]]}\n"
     ]
    }
   ],
   "source": [
    "grammars_path ='../data/grammars/rdf.g1_cnf (prob).txt'\n",
    "grm = Grammar(grammars_path, grammar_type='Prob')\n",
    "\n",
    "graph_path = '../data/graphs/'\n",
    "graph_paths = os.listdir(graph_path)\n",
    "\n",
    "ll={'generations.txt': 2164, 'travel.txt': 2499, 'biomedical-mesure-primitive.txt': 15156,\n",
    "    'atom-primitive.txt': 15454, 'foaf.txt': 4118, 'funding.txt': 17634, 'univ-bench.txt': 2540,\n",
    "    'pizza.txt': 56195, 'skos.txt': 810, 'wine.txt': 66572, 'people_pets.txt': 9472, 'core.txt':204}\n",
    "k = 1 #grm.ntc"
   ]
  },
  {
   "cell_type": "code",
   "execution_count": 3,
   "id": "d711d703",
   "metadata": {},
   "outputs": [
    {
     "name": "stdout",
     "output_type": "stream",
     "text": [
      "Graph:  generations.txt\n",
      "Fill time 424.76 ms\n",
      "0:  |F(x)| = 8.90657e-08; step 1\n",
      "1:  |F(x)| = 3.83924e-15; step 1\n",
      "generations.txt  -  2164 / 2164  -  552.54 ms\n",
      "\n",
      "Graph:  pizza.txt\n",
      "Fill time 22.1 ms\n",
      "0:  |F(x)| = 2.59205e-05; step 1\n",
      "1:  |F(x)| = 3.43223e-12; step 1\n",
      "2:  |F(x)| = 1.41742e-14; step 1\n",
      "3:  |F(x)| = 3.37889e-15; step 1\n",
      "pizza.txt  -  56195 / 56195  -  2063.78 ms\n",
      "\n",
      "Graph:  foaf.txt\n",
      "Fill time 13.89 ms\n",
      "0:  |F(x)| = 1.02185e-06; step 1\n",
      "1:  |F(x)| = 4.78396e-14; step 1\n",
      "2:  |F(x)| = 9.35491e-16; step 1\n",
      "foaf.txt  -  4118 / 4118  -  953.89 ms\n",
      "\n",
      "Graph:  people_pets.txt\n",
      "Fill time 10.63 ms\n",
      "0:  |F(x)| = 1.36631e-06; step 1\n",
      "1:  |F(x)| = 7.46019e-14; step 1\n",
      "2:  |F(x)| = 6.38076e-16; step 1\n",
      "people_pets.txt  -  9472 / 9472  -  1098.52 ms\n",
      "\n",
      "Graph:  univ-bench.txt\n",
      "Fill time 13.02 ms\n",
      "0:  |F(x)| = 6.01639e-07; step 1\n",
      "1:  |F(x)| = 4.06697e-14; step 1\n",
      "2:  |F(x)| = 8.3728e-16; step 1\n",
      "univ-bench.txt  -  2540 / 2540  -  884.31 ms\n",
      "\n",
      "Graph:  atom-primitive.txt\n",
      "Fill time 13.46 ms\n",
      "0:  |F(x)| = 1.71397e-05; step 1\n",
      "1:  |F(x)| = 1.35165e-11; step 1\n",
      "2:  |F(x)| = 6.60932e-15; step 1\n",
      "atom-primitive.txt  -  15454 / 15454  -  1007.76 ms\n",
      "\n",
      "Graph:  skos.txt\n",
      "Fill time 14.96 ms\n",
      "0:  |F(x)| = 6.23895e-08; step 1\n",
      "1:  |F(x)| = 2.77556e-16; step 1\n",
      "skos.txt  -  810 / 810  -  640.83 ms\n",
      "\n",
      "Graph:  wine.txt\n",
      "Fill time 17.65 ms\n",
      "0:  |F(x)| = 1.42877e-05; step 1\n",
      "1:  |F(x)| = 1.5082e-12; step 1\n",
      "2:  |F(x)| = 4.47013e-15; step 1\n",
      "wine.txt  -  66572 / 66572  -  1718.39 ms\n",
      "\n",
      "Graph:  biomedical-mesure-primitive.txt\n",
      "Fill time 12.42 ms\n",
      "0:  |F(x)| = 2.05364e-06; step 1\n",
      "1:  |F(x)| = 5.96341e-13; step 1\n",
      "2:  |F(x)| = 9.28879e-16; step 1\n",
      "biomedical-mesure-primitive.txt  -  15156 / 15156  -  1066.08 ms\n",
      "\n",
      "Graph:  funding.txt\n",
      "Fill time 13.68 ms\n",
      "0:  |F(x)| = 1.23101e-06; step 1\n",
      "1:  |F(x)| = 1.43564e-13; step 1\n",
      "2:  |F(x)| = 2.22045e-15; step 1\n",
      "funding.txt  -  17634 / 17634  -  1231.84 ms\n",
      "\n",
      "Graph:  travel.txt\n",
      "Fill time 12.7 ms\n",
      "0:  |F(x)| = 2.84506e-07; step 1\n",
      "1:  |F(x)| = 1.27448e-14; step 1\n",
      "2:  |F(x)| = 7.8388e-16; step 1\n",
      "travel.txt  -  2499 / 2499  -  1037.1 ms\n",
      "\n",
      "Graph:  core.txt\n",
      "Fill time 20.0 ms\n",
      "0:  |F(x)| = 0.000514519; step 1\n",
      "1:  |F(x)| = 7.22768e-12; step 1\n",
      "2:  |F(x)| = 1.89552e-15; step 1\n",
      "core.txt  -  204 / 204  -  1198.39 ms\n",
      "\n"
     ]
    }
   ],
   "source": [
    "for gp in graph_paths:\n",
    "    if gp[-4:]!='.txt': continue \n",
    "    with cp.cuda.Device(0):\n",
    "        s = t()\n",
    "        mempool = cp.get_default_memory_pool()\n",
    "        mempool.free_all_blocks()\n",
    "        print('Graph: ', gp)\n",
    "        grh = Graph(graph_path + gp)\n",
    "        grh.fill(grm)\n",
    "        eq = Equation(grm, grh)\n",
    "        print('Fill time', round((t() - s) * 1000, 2), 'ms')\n",
    "\n",
    "        s = t()\n",
    "        res = eq.newton_krylov(equation=eq.equation_try3, info=True)\n",
    "        s2 = t()\n",
    "        numb = grm.nonterminals['S']\n",
    "        nnz = res.count_nonzero()\n",
    "    print(gp,' - ', nnz, '/', ll[gp], ' - ', round((s2 - s) * 1000, 2), 'ms')\n",
    "    print()"
   ]
  }
 ],
 "metadata": {
  "kernelspec": {
   "display_name": "Python 3 (ipykernel)",
   "language": "python",
   "name": "python3"
  },
  "language_info": {
   "codemirror_mode": {
    "name": "ipython",
    "version": 3
   },
   "file_extension": ".py",
   "mimetype": "text/x-python",
   "name": "python",
   "nbconvert_exporter": "python",
   "pygments_lexer": "ipython3",
   "version": "3.9.5"
  }
 },
 "nbformat": 4,
 "nbformat_minor": 5
}
